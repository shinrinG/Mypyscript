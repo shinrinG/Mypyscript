{
 "cells": [
  {
   "cell_type": "code",
   "execution_count": null,
   "metadata": {},
   "outputs": [],
   "source": [
    "import numpy as np\n",
    "import cv2\n",
    "import matplotlib.pyplot as plt\n",
    "import pandas as pd"
   ]
  },
  {
   "cell_type": "code",
   "execution_count": null,
   "metadata": {},
   "outputs": [],
   "source": [
    "# display a 2D manifold of the digits\n",
    "n = 51  # figure with 51x51 digits\n",
    "digit_size = 128\n",
    "ext = \".png\"\n",
    "csvpath=\"C:\\\\Users\\\\XXX\\\\Desktop\\\\201910101303_d3qa\\\\04_generate_50_prd\\\\output_result.csv\"\n",
    "path = \"C:\\\\Users\\\\XXX\\\\Desktop\\\\201910101303_d3qa\\\\04_generate_50\\\\\"\n",
    "\n",
    "figure = np.zeros((digit_size * n, digit_size * n,3))\n",
    "\n",
    "df = pd.read_csv(csvpath)\n",
    "lists = df.values.tolist()\n",
    "lists = np.array(lists)\n",
    "pred = lists[:,2]\n",
    "pred = pred.tolist()\n",
    "for i in range(n):\n",
    "    for j in range(n):\n",
    "        num=j*n+i\n",
    "        target = path + str(num) + ext\n",
    "        img = cv2.imread(target)\n",
    "        chg= img[:,:,0].reshape(128,128,1)\n",
    "        cha= np.zeros((128,128,1)).reshape(128,128,1)\n",
    "        chb= np.zeros((128,128,1)).reshape(128,128,1)\n",
    "\n",
    "\n",
    "        if pred[num]<0.9:\n",
    "            img2=np.concatenate((chb,cha,chg),axis=2)\n",
    "            img3=np.int_(img2)\n",
    "        else:\n",
    "            img2=np.concatenate((chg,cha,chb),axis=2)\n",
    "            img3=np.int_(img2)\n",
    "        \n",
    "        figure[j * digit_size: (j + 1) * digit_size,\n",
    "              i * digit_size: (i + 1) * digit_size] = img3\n",
    "        figure=np.int_(figure)\n",
    "\n",
    "plt.figure(figsize=(10, 10))\n",
    "plt.imshow(figure)\n",
    "plt.show()"
   ]
  },
  {
   "cell_type": "code",
   "execution_count": null,
   "metadata": {},
   "outputs": [],
   "source": [
    "cv2.imwrite(\"2Dmani50_09.bmp\",figure)"
   ]
  }
 ],
 "metadata": {
  "kernelspec": {
   "display_name": "Python 3",
   "language": "python",
   "name": "python3"
  },
  "language_info": {
   "codemirror_mode": {
    "name": "ipython",
    "version": 3
   },
   "file_extension": ".py",
   "mimetype": "text/x-python",
   "name": "python",
   "nbconvert_exporter": "python",
   "pygments_lexer": "ipython3",
   "version": "3.7.3"
  }
 },
 "nbformat": 4,
 "nbformat_minor": 2
}
