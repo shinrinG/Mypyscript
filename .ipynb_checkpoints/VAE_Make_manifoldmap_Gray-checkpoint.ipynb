{
 "cells": [
  {
   "cell_type": "code",
   "execution_count": null,
   "metadata": {},
   "outputs": [],
   "source": [
    "import numpy as np\n",
    "import cv2\n",
    "import matplotlib.pyplot as plt\n",
    "\n",
    "# display a 2D manifold of the digits\n",
    "n = 51  # figure with 51x51 digits\n",
    "digit_size = 128\n",
    "extention = \".png\"\n",
    "path = \"C:\\\\Users\\\\XXX\\\\Desktop\\\\201910101303_d3qa\\\\04_generate_50\\\\\"\n",
    "\n",
    "\n",
    "figure = np.zeros((digit_size * n, digit_size * n))\n",
    "\n",
    "for i in range(n):\n",
    "    for j in range(n):\n",
    "        num=j*n+i\n",
    "        target = path + str(num) + extention\n",
    "        digit = cv2.imread(target,cv2.IMREAD_GRAYSCALE)\n",
    "        figure[j * digit_size: (j + 1) * digit_size,\n",
    "              i * digit_size: (i + 1) * digit_size] = digit\n",
    "\n",
    "plt.figure(figsize=(10, 10))\n",
    "plt.imshow(figure)\n",
    "plt.show()"
   ]
  },
  {
   "cell_type": "code",
   "execution_count": null,
   "metadata": {},
   "outputs": [],
   "source": [
    "cv2.imwrite(\"2Dmani20.bmp\",figure)"
   ]
  }
 ],
 "metadata": {
  "kernelspec": {
   "display_name": "Python 3",
   "language": "python",
   "name": "python3"
  },
  "language_info": {
   "codemirror_mode": {
    "name": "ipython",
    "version": 3
   },
   "file_extension": ".py",
   "mimetype": "text/x-python",
   "name": "python",
   "nbconvert_exporter": "python",
   "pygments_lexer": "ipython3",
   "version": "3.7.4"
  }
 },
 "nbformat": 4,
 "nbformat_minor": 2
}
