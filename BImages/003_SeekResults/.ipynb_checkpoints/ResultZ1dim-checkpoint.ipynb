{
 "cells": [
  {
   "cell_type": "code",
   "execution_count": null,
   "metadata": {},
   "outputs": [],
   "source": [
    "import pandas as pd\n",
    "import matplotlib.pyplot as plt\n",
    "import numpy as np\n",
    "import cv2\n",
    "import shutil\n",
    "import os"
   ]
  },
  {
   "cell_type": "code",
   "execution_count": null,
   "metadata": {},
   "outputs": [],
   "source": [
    "#define paths\n",
    "project_path= \"project path\" \"\\\\\"\n",
    "datacsv=project_path+\"output_result.csv\"\n",
    "outpath=\"out path\"\n",
    "\n",
    "#latent vector plot\n",
    "df = pd.read_csv(datacsv)\n",
    "df.plot.scatter(x=\"Identity__0\",y=\"Identity__1\",c=df.index[1],cmap=\"winter\")"
   ]
  },
  {
   "cell_type": "code",
   "execution_count": null,
   "metadata": {},
   "outputs": [],
   "source": [
    "#sliceplot\n",
    "\n",
    "direction = 0 # 0:horizonal 1:vertical\n",
    "alpha = 0 # slice area\n",
    "\n",
    "if (direction == 0):\n",
    "    df_alp = df[(df[\"Identity__1\"]>alpha)&(df[\"Identity__1\"]<alpha+0.1)]\n",
    "    df_alp.plot.scatter(x=\"Identity__0\",y=\"Identity__1\",c=df.index[1],cmap=\"winter\")\n",
    "    df_alp_tight = df[(df[\"Identity__1\"]>alpha+0.01)&(df[\"Identity__1\"]<alpha+0.015)]\n",
    "    df_alp_tight.plot.scatter(x=\"Identity__0\",y=\"Identity__1\",c=df.index[1],cmap=\"winter\")\n",
    "    df_at_sort = df_alp_tight.sort_values('Identity__0')\n",
    "else:\n",
    "    df_alp = df[(df[\"Identity__0\"]>alpha)&(df[\"Identity__0\"]<alpha+0.1)]\n",
    "    df_alp.plot.scatter(x=\"Identity__0\",y=\"Identity__1\",c=df.index[1],cmap=\"winter\")\n",
    "    df_alp_tight = df[(df[\"Identity__0\"]>alpha+0.05)&(df[\"Identity__0\"]<alpha+0.06)]\n",
    "    df_alp_tight.plot.scatter(x=\"Identity__0\",y=\"Identity__1\",c=df.index[1],cmap=\"winter\")\n",
    "    df_alp_tight"
   ]
  },
  {
   "cell_type": "code",
   "execution_count": null,
   "metadata": {},
   "outputs": [],
   "source": [
    "#show imgs\n",
    "def get_img(i):\n",
    "    imagefile = df_at_sort.iat[i,0]\n",
    "    outfile = project_path+df_at_sort.iat[i,2].lstrip(\".\\\\\")\n",
    "    imgin = cv2.imread(imagefile,cv2.IMREAD_GRAYSCALE)\n",
    "    imgout = cv2.imread(outfile,cv2.IMREAD_GRAYSCALE)\n",
    "    return imgin,imgout\n",
    "columns=df_at_sort.shape[0]\n",
    "fig=plt.figure(figsize=(12,20))\n",
    "piclist=[]\n",
    "for i in range(columns):\n",
    "    imgin,imgout=get_img(i)\n",
    "    piclist.append(imgin)\n",
    "    piclist.append(imgout)\n",
    "    #desctibe_inputimage\n",
    "    c_in=2*(i+1)-1\n",
    "    ax=fig.add_subplot(columns,2,c_in)\n",
    "    ax.imshow(imgin)\n",
    "    ax.set_axis_off()\n",
    "    #describe_outputimage\n",
    "    c_out=c_in+1\n",
    "    ax=fig.add_subplot(columns,2,c_out)\n",
    "    ax.imshow(imgout)\n",
    "    ax.set_axis_off()"
   ]
  },
  {
   "cell_type": "code",
   "execution_count": null,
   "metadata": {},
   "outputs": [],
   "source": []
  },
  {
   "cell_type": "code",
   "execution_count": null,
   "metadata": {},
   "outputs": [],
   "source": [
    "#save pics\n",
    "x=0\n",
    "for filepath in piclist:\n",
    "    image=filepath\n",
    "    name=outpath+\"\\\\\"+str(x)+\".bmp\"\n",
    "    cv2.imwrite(name,image)\n",
    "    x+=1"
   ]
  },
  {
   "cell_type": "code",
   "execution_count": null,
   "metadata": {},
   "outputs": [],
   "source": []
  },
  {
   "cell_type": "code",
   "execution_count": null,
   "metadata": {},
   "outputs": [],
   "source": []
  },
  {
   "cell_type": "code",
   "execution_count": null,
   "metadata": {},
   "outputs": [],
   "source": []
  }
 ],
 "metadata": {
  "kernelspec": {
   "display_name": "Python 3",
   "language": "python",
   "name": "python3"
  },
  "language_info": {
   "codemirror_mode": {
    "name": "ipython",
    "version": 3
   },
   "file_extension": ".py",
   "mimetype": "text/x-python",
   "name": "python",
   "nbconvert_exporter": "python",
   "pygments_lexer": "ipython3",
   "version": "3.7.4"
  }
 },
 "nbformat": 4,
 "nbformat_minor": 2
}
