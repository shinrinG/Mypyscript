{
 "cells": [
  {
   "cell_type": "code",
   "execution_count": null,
   "metadata": {},
   "outputs": [],
   "source": [
    "import os\n",
    "import sys\n",
    "import shutil\n",
    "import glob\n",
    "from PIL import Image , ImageOps"
   ]
  },
  {
   "cell_type": "code",
   "execution_count": null,
   "metadata": {},
   "outputs": [],
   "source": [
    "#define dirs\n",
    "original_path = \"path for original\"\n",
    "temp_R = \"temp path for segment R\"\n",
    "temp_L = \"temp path for segment L\"\n",
    "temp_invL = \"temp path for invert L\"\n",
    "temp_all = \"temp path for all\"\n",
    "output = \"splited img path\""
   ]
  },
  {
   "cell_type": "code",
   "execution_count": null,
   "metadata": {},
   "outputs": [],
   "source": [
    "def classifyLR(path0,pathL,pathR):\n",
    "    n=0\n",
    "    origin_list = glob.glob(original_path)\n",
    "    print('Start LRseg')\n",
    "    for i in origin_list:\n",
    "        n=n+1\n",
    "        strs=i.split('_')\n",
    "        if strs[5] == 'L':\n",
    "            shutil.copy(i,temp_L)\n",
    "        else:\n",
    "            shutil.copy(i,temp_R)\n",
    "        out = str(n)\n",
    "        print(out)\n",
    "classifyLR()"
   ]
  },
  {
   "cell_type": "code",
   "execution_count": null,
   "metadata": {},
   "outputs": [],
   "source": []
  },
  {
   "cell_type": "code",
   "execution_count": null,
   "metadata": {},
   "outputs": [],
   "source": [
    "def invertion(pathL,pathLinv):\n",
    "    n=0\n",
    "    print('Start invert L')\n",
    "    globfile = pathL + \"\\\\*\"\n",
    "    picl=glob.glob(globfile)\n",
    "    total = len(picl)\n",
    "    for i in picl:\n",
    "        n=n+1\n",
    "        new_file = pathLinv+'\\\\' + os.path.basename(i)\n",
    "        im=Image.open(i)\n",
    "        imflip=ImageOps.flip(im)\n",
    "        imflip.save(new_file)\n",
    "        out = str(n)\n",
    "        print(out+\"/\"+total)"
   ]
  },
  {
   "cell_type": "code",
   "execution_count": null,
   "metadata": {},
   "outputs": [],
   "source": []
  },
  {
   "cell_type": "code",
   "execution_count": null,
   "metadata": {},
   "outputs": [],
   "source": [
    "def integrate(pathLinv,pathR,path_all):  \n",
    "    n=0\n",
    "    print('integrateLR')\n",
    "    picr=glob.glob(pathR + \"\\\\*\")\n",
    "    picl_inv=glob.glob(pathLinv+\"\\\\*\")\n",
    "    for i in picr:\n",
    "        n=n+1\n",
    "        shutil.copy(i,path_all)\n",
    "        out=str(n)+ \"/\" +str(len(picr))\n",
    "        print(out)\n",
    "    for i in picl_inv:\n",
    "        n=n+1\n",
    "        shutil.copy(i,path_all)\n",
    "        out=str(n)+ \"/\" +str(len(picl_inv))\n",
    "        print (out)\n"
   ]
  },
  {
   "cell_type": "code",
   "execution_count": null,
   "metadata": {},
   "outputs": [],
   "source": []
  },
  {
   "cell_type": "code",
   "execution_count": null,
   "metadata": {},
   "outputs": [],
   "source": [
    "def split(path_all,path_split):\n",
    "    splits=217\n",
    "    data=glob.glob(path_all+\"\\\\*\")\n",
    "    count=0\n",
    "    for i in data:\n",
    "        im=Image.open(i)\n",
    "        nameseed=os.path.basename(i)\n",
    "        total = len(data)*splits\n",
    "        for n in range(splits):\n",
    "            count=count+1\n",
    "            left=16*n\n",
    "            upper=100\n",
    "            right=16*n+128\n",
    "            lower=228\n",
    "            im_crop=im.crop((left,upper,right,lower))\n",
    "\n",
    "            numbering=\"{0:03d}\".format(n)\n",
    "            savepath=path_split\"\\\\\"+ numbering +'_'+ nameseed\n",
    "            im_crop.save(savepath)\n",
    "            out=str(count)+\"/\"+str(total)\n",
    "            print(out)"
   ]
  },
  {
   "cell_type": "code",
   "execution_count": null,
   "metadata": {},
   "outputs": [],
   "source": []
  },
  {
   "cell_type": "code",
   "execution_count": null,
   "metadata": {},
   "outputs": [],
   "source": [
    "def rename(path_split):\n",
    "    n=0\n",
    "    lists = glob.glob(path_split + \"\\\\*.bmp\")\n",
    "    total = str(len(lists))\n",
    "    for i in lists:\n",
    "        n=n+1\n",
    "        base = os.path.basename(i)\n",
    "        strs=base.split('_')\n",
    "        new_str=strs[1]+'_'+strs[2]+'_'+strs[3]+'_'+strs[4]+'_'+strs[5]+'_'+strs[6]+'_'+strs[7]+strs[0]+'_'+'.bmp'\n",
    "        os.rename(i,new_str)\n",
    "        out = str(n) + \"/\" + total\n",
    "        print(out)\n"
   ]
  }
 ],
 "metadata": {
  "kernelspec": {
   "display_name": "Python 3",
   "language": "python",
   "name": "python3"
  },
  "language_info": {
   "codemirror_mode": {
    "name": "ipython",
    "version": 3
   },
   "file_extension": ".py",
   "mimetype": "text/x-python",
   "name": "python",
   "nbconvert_exporter": "python",
   "pygments_lexer": "ipython3",
   "version": "3.7.4"
  }
 },
 "nbformat": 4,
 "nbformat_minor": 2
}
