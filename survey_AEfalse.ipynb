{
 "cells": [
  {
   "cell_type": "code",
   "execution_count": 1,
   "metadata": {},
   "outputs": [],
   "source": [
    "import cv2"
   ]
  },
  {
   "cell_type": "code",
   "execution_count": 3,
   "metadata": {},
   "outputs": [],
   "source": [
    "import matplotlib.pyplot as plt "
   ]
  },
  {
   "cell_type": "code",
   "execution_count": 4,
   "metadata": {},
   "outputs": [],
   "source": [
    "import os"
   ]
  },
  {
   "cell_type": "code",
   "execution_count": 6,
   "metadata": {},
   "outputs": [
    {
     "data": {
      "text/plain": [
       "'C:\\\\Users\\\\isc\\\\Desktop\\\\1004csize\\\\csizeclass'"
      ]
     },
     "execution_count": 6,
     "metadata": {},
     "output_type": "execute_result"
    }
   ],
   "source": [
    "target = os.path.join(os.getcwd()+\"\\\\csizeclass\")\n",
    "target"
   ]
  },
  {
   "cell_type": "code",
   "execution_count": 7,
   "metadata": {},
   "outputs": [
    {
     "data": {
      "text/plain": [
       "['C:\\\\Users\\\\isc\\\\Desktop\\\\1004csize\\\\csizeclass\\\\AS61\\\\1508_GTXXXXXXXX_AS61_L_OUT_OK_2019-0917-0549-07.bmp',\n",
       " 'C:\\\\Users\\\\isc\\\\Desktop\\\\1004csize\\\\csizeclass\\\\AS61\\\\1508_GTXXXXXXXX_AS61_L_OUT_OK_2019-0917-0549-07_01.bmp',\n",
       " 'C:\\\\Users\\\\isc\\\\Desktop\\\\1004csize\\\\csizeclass\\\\AS61\\\\1508_GTXXXXXXXX_AS61_L_OUT_OK_2019-0917-0549-07_autogauge.bmp',\n",
       " 'C:\\\\Users\\\\isc\\\\Desktop\\\\1004csize\\\\csizeclass\\\\AS61\\\\1508_GTXXXXXXXX_AS61_L_OUT_OK_2019-0917-0549-07_gauge.bmp',\n",
       " 'C:\\\\Users\\\\isc\\\\Desktop\\\\1004csize\\\\csizeclass\\\\AS61\\\\1508_GTXXXXXXXX_AS61_R_OUT_OK_2019-0917-0549-07.bmp',\n",
       " 'C:\\\\Users\\\\isc\\\\Desktop\\\\1004csize\\\\csizeclass\\\\AS61\\\\1508_GTXXXXXXXX_AS61_R_OUT_OK_2019-0917-0549-07_01.bmp',\n",
       " 'C:\\\\Users\\\\isc\\\\Desktop\\\\1004csize\\\\csizeclass\\\\AS61\\\\1508_GTXXXXXXXX_AS61_R_OUT_OK_2019-0917-0549-07_autogauge.bmp',\n",
       " 'C:\\\\Users\\\\isc\\\\Desktop\\\\1004csize\\\\csizeclass\\\\AS61\\\\1508_GTXXXXXXXX_AS61_R_OUT_OK_2019-0917-0549-07_gauge.bmp',\n",
       " 'C:\\\\Users\\\\isc\\\\Desktop\\\\1004csize\\\\csizeclass\\\\BK37\\\\6818_GTXXXXXXXX_BK37_L_OUT_OK_2019-1002-0053-30.bmp',\n",
       " 'C:\\\\Users\\\\isc\\\\Desktop\\\\1004csize\\\\csizeclass\\\\BK37\\\\6818_GTXXXXXXXX_BK37_L_OUT_OK_2019-1002-0053-30_01.bmp',\n",
       " 'C:\\\\Users\\\\isc\\\\Desktop\\\\1004csize\\\\csizeclass\\\\BK37\\\\6818_GTXXXXXXXX_BK37_L_OUT_OK_2019-1002-0053-30_autogauge.bmp',\n",
       " 'C:\\\\Users\\\\isc\\\\Desktop\\\\1004csize\\\\csizeclass\\\\BK37\\\\6818_GTXXXXXXXX_BK37_L_OUT_OK_2019-1002-0053-30_gauge.bmp',\n",
       " 'C:\\\\Users\\\\isc\\\\Desktop\\\\1004csize\\\\csizeclass\\\\BK37\\\\6818_GTXXXXXXXX_BK37_R_OUT_OK_2019-1002-0053-30.bmp',\n",
       " 'C:\\\\Users\\\\isc\\\\Desktop\\\\1004csize\\\\csizeclass\\\\BK37\\\\6818_GTXXXXXXXX_BK37_R_OUT_OK_2019-1002-0053-30_01.bmp',\n",
       " 'C:\\\\Users\\\\isc\\\\Desktop\\\\1004csize\\\\csizeclass\\\\BK37\\\\6818_GTXXXXXXXX_BK37_R_OUT_OK_2019-1002-0053-30_autogauge.bmp',\n",
       " 'C:\\\\Users\\\\isc\\\\Desktop\\\\1004csize\\\\csizeclass\\\\BK37\\\\6818_GTXXXXXXXX_BK37_R_OUT_OK_2019-1002-0053-30_gauge.bmp',\n",
       " 'C:\\\\Users\\\\isc\\\\Desktop\\\\1004csize\\\\csizeclass\\\\DC56\\\\5096_GTXXXXXXXX_DC56_L_OUT_OK_2019-1004-0013-59.bmp',\n",
       " 'C:\\\\Users\\\\isc\\\\Desktop\\\\1004csize\\\\csizeclass\\\\DC56\\\\5096_GTXXXXXXXX_DC56_L_OUT_OK_2019-1004-0013-59_01.bmp',\n",
       " 'C:\\\\Users\\\\isc\\\\Desktop\\\\1004csize\\\\csizeclass\\\\DC56\\\\5096_GTXXXXXXXX_DC56_L_OUT_OK_2019-1004-0013-59_autogauge.bmp',\n",
       " 'C:\\\\Users\\\\isc\\\\Desktop\\\\1004csize\\\\csizeclass\\\\DC56\\\\5096_GTXXXXXXXX_DC56_L_OUT_OK_2019-1004-0013-59_gauge.bmp',\n",
       " 'C:\\\\Users\\\\isc\\\\Desktop\\\\1004csize\\\\csizeclass\\\\DC56\\\\5096_GTXXXXXXXX_DC56_R_OUT_OK_2019-1004-0013-59.bmp',\n",
       " 'C:\\\\Users\\\\isc\\\\Desktop\\\\1004csize\\\\csizeclass\\\\DC56\\\\5096_GTXXXXXXXX_DC56_R_OUT_OK_2019-1004-0013-59_01.bmp',\n",
       " 'C:\\\\Users\\\\isc\\\\Desktop\\\\1004csize\\\\csizeclass\\\\DC56\\\\5096_GTXXXXXXXX_DC56_R_OUT_OK_2019-1004-0013-59_autogauge.bmp',\n",
       " 'C:\\\\Users\\\\isc\\\\Desktop\\\\1004csize\\\\csizeclass\\\\DC56\\\\5096_GTXXXXXXXX_DC56_R_OUT_OK_2019-1004-0013-59_gauge.bmp',\n",
       " 'C:\\\\Users\\\\isc\\\\Desktop\\\\1004csize\\\\csizeclass\\\\DY14\\\\7584_GTXXXXXXXX_DY14_L_OUT_OK_2019-0831-0756-43.bmp',\n",
       " 'C:\\\\Users\\\\isc\\\\Desktop\\\\1004csize\\\\csizeclass\\\\DY14\\\\7584_GTXXXXXXXX_DY14_L_OUT_OK_2019-0831-0756-43_01.bmp',\n",
       " 'C:\\\\Users\\\\isc\\\\Desktop\\\\1004csize\\\\csizeclass\\\\DY14\\\\7584_GTXXXXXXXX_DY14_L_OUT_OK_2019-0831-0756-43_autogauge.bmp',\n",
       " 'C:\\\\Users\\\\isc\\\\Desktop\\\\1004csize\\\\csizeclass\\\\DY14\\\\7584_GTXXXXXXXX_DY14_L_OUT_OK_2019-0831-0756-43_gauge.bmp',\n",
       " 'C:\\\\Users\\\\isc\\\\Desktop\\\\1004csize\\\\csizeclass\\\\DY14\\\\7584_GTXXXXXXXX_DY14_R_OUT_OK_2019-0831-0756-43.bmp',\n",
       " 'C:\\\\Users\\\\isc\\\\Desktop\\\\1004csize\\\\csizeclass\\\\DY14\\\\7584_GTXXXXXXXX_DY14_R_OUT_OK_2019-0831-0756-43_01.bmp',\n",
       " 'C:\\\\Users\\\\isc\\\\Desktop\\\\1004csize\\\\csizeclass\\\\DY14\\\\7584_GTXXXXXXXX_DY14_R_OUT_OK_2019-0831-0756-43_autogauge.bmp',\n",
       " 'C:\\\\Users\\\\isc\\\\Desktop\\\\1004csize\\\\csizeclass\\\\DY14\\\\7584_GTXXXXXXXX_DY14_R_OUT_OK_2019-0831-0756-43_gauge.bmp',\n",
       " 'C:\\\\Users\\\\isc\\\\Desktop\\\\1004csize\\\\csizeclass\\\\DY25\\\\6688_GTXXXXXXXX_DY25_L_OUT_OK_2019-1004-0006-01.bmp',\n",
       " 'C:\\\\Users\\\\isc\\\\Desktop\\\\1004csize\\\\csizeclass\\\\DY25\\\\6688_GTXXXXXXXX_DY25_L_OUT_OK_2019-1004-0006-01_01.bmp',\n",
       " 'C:\\\\Users\\\\isc\\\\Desktop\\\\1004csize\\\\csizeclass\\\\DY25\\\\6688_GTXXXXXXXX_DY25_L_OUT_OK_2019-1004-0006-01_11.bmp',\n",
       " 'C:\\\\Users\\\\isc\\\\Desktop\\\\1004csize\\\\csizeclass\\\\DY25\\\\6688_GTXXXXXXXX_DY25_L_OUT_OK_2019-1004-0006-01_12.bmp',\n",
       " 'C:\\\\Users\\\\isc\\\\Desktop\\\\1004csize\\\\csizeclass\\\\DY25\\\\6688_GTXXXXXXXX_DY25_L_OUT_OK_2019-1004-0006-01_13.bmp',\n",
       " 'C:\\\\Users\\\\isc\\\\Desktop\\\\1004csize\\\\csizeclass\\\\DY25\\\\6688_GTXXXXXXXX_DY25_L_OUT_OK_2019-1004-0006-01_14.bmp',\n",
       " 'C:\\\\Users\\\\isc\\\\Desktop\\\\1004csize\\\\csizeclass\\\\DY25\\\\6688_GTXXXXXXXX_DY25_L_OUT_OK_2019-1004-0006-01_15.bmp',\n",
       " 'C:\\\\Users\\\\isc\\\\Desktop\\\\1004csize\\\\csizeclass\\\\DY25\\\\6688_GTXXXXXXXX_DY25_L_OUT_OK_2019-1004-0006-01_autogauge.bmp',\n",
       " 'C:\\\\Users\\\\isc\\\\Desktop\\\\1004csize\\\\csizeclass\\\\DY25\\\\6688_GTXXXXXXXX_DY25_L_OUT_OK_2019-1004-0006-01_gauge.bmp',\n",
       " 'C:\\\\Users\\\\isc\\\\Desktop\\\\1004csize\\\\csizeclass\\\\DY25\\\\6688_GTXXXXXXXX_DY25_R_OUT_OK_2019-1004-0006-01.bmp',\n",
       " 'C:\\\\Users\\\\isc\\\\Desktop\\\\1004csize\\\\csizeclass\\\\DY25\\\\6688_GTXXXXXXXX_DY25_R_OUT_OK_2019-1004-0006-01_01.bmp',\n",
       " 'C:\\\\Users\\\\isc\\\\Desktop\\\\1004csize\\\\csizeclass\\\\DY25\\\\6688_GTXXXXXXXX_DY25_R_OUT_OK_2019-1004-0006-01_11.bmp',\n",
       " 'C:\\\\Users\\\\isc\\\\Desktop\\\\1004csize\\\\csizeclass\\\\DY25\\\\6688_GTXXXXXXXX_DY25_R_OUT_OK_2019-1004-0006-01_12.bmp',\n",
       " 'C:\\\\Users\\\\isc\\\\Desktop\\\\1004csize\\\\csizeclass\\\\DY25\\\\6688_GTXXXXXXXX_DY25_R_OUT_OK_2019-1004-0006-01_13.bmp',\n",
       " 'C:\\\\Users\\\\isc\\\\Desktop\\\\1004csize\\\\csizeclass\\\\DY25\\\\6688_GTXXXXXXXX_DY25_R_OUT_OK_2019-1004-0006-01_14.bmp',\n",
       " 'C:\\\\Users\\\\isc\\\\Desktop\\\\1004csize\\\\csizeclass\\\\DY25\\\\6688_GTXXXXXXXX_DY25_R_OUT_OK_2019-1004-0006-01_15.bmp',\n",
       " 'C:\\\\Users\\\\isc\\\\Desktop\\\\1004csize\\\\csizeclass\\\\DY25\\\\6688_GTXXXXXXXX_DY25_R_OUT_OK_2019-1004-0006-01_autogauge.bmp',\n",
       " 'C:\\\\Users\\\\isc\\\\Desktop\\\\1004csize\\\\csizeclass\\\\DY25\\\\6688_GTXXXXXXXX_DY25_R_OUT_OK_2019-1004-0006-01_gauge.bmp',\n",
       " 'C:\\\\Users\\\\isc\\\\Desktop\\\\1004csize\\\\csizeclass\\\\EN58\\\\7878_GTXXXXXXXX_EN58_L_OUT_OK_2019-1002-0500-22.bmp',\n",
       " 'C:\\\\Users\\\\isc\\\\Desktop\\\\1004csize\\\\csizeclass\\\\EN58\\\\7878_GTXXXXXXXX_EN58_L_OUT_OK_2019-1002-0500-22_01.bmp',\n",
       " 'C:\\\\Users\\\\isc\\\\Desktop\\\\1004csize\\\\csizeclass\\\\EN58\\\\7878_GTXXXXXXXX_EN58_L_OUT_OK_2019-1002-0500-22_autogauge.bmp',\n",
       " 'C:\\\\Users\\\\isc\\\\Desktop\\\\1004csize\\\\csizeclass\\\\EN58\\\\7878_GTXXXXXXXX_EN58_L_OUT_OK_2019-1002-0500-22_gauge.bmp',\n",
       " 'C:\\\\Users\\\\isc\\\\Desktop\\\\1004csize\\\\csizeclass\\\\EN58\\\\7878_GTXXXXXXXX_EN58_R_OUT_OK_2019-1002-0500-22.bmp',\n",
       " 'C:\\\\Users\\\\isc\\\\Desktop\\\\1004csize\\\\csizeclass\\\\EN58\\\\7878_GTXXXXXXXX_EN58_R_OUT_OK_2019-1002-0500-22_01.bmp',\n",
       " 'C:\\\\Users\\\\isc\\\\Desktop\\\\1004csize\\\\csizeclass\\\\EN58\\\\7878_GTXXXXXXXX_EN58_R_OUT_OK_2019-1002-0500-22_autogauge.bmp',\n",
       " 'C:\\\\Users\\\\isc\\\\Desktop\\\\1004csize\\\\csizeclass\\\\EN58\\\\7878_GTXXXXXXXX_EN58_R_OUT_OK_2019-1002-0500-22_gauge.bmp',\n",
       " 'C:\\\\Users\\\\isc\\\\Desktop\\\\1004csize\\\\csizeclass\\\\GX48\\\\6524_GTXXXXXXXX_GX48_L_OUT_OK_2019-1001-0952-55.bmp',\n",
       " 'C:\\\\Users\\\\isc\\\\Desktop\\\\1004csize\\\\csizeclass\\\\GX48\\\\6524_GTXXXXXXXX_GX48_L_OUT_OK_2019-1001-0952-55_01.bmp',\n",
       " 'C:\\\\Users\\\\isc\\\\Desktop\\\\1004csize\\\\csizeclass\\\\GX48\\\\6524_GTXXXXXXXX_GX48_L_OUT_OK_2019-1001-0952-55_autogauge.bmp',\n",
       " 'C:\\\\Users\\\\isc\\\\Desktop\\\\1004csize\\\\csizeclass\\\\GX48\\\\6524_GTXXXXXXXX_GX48_L_OUT_OK_2019-1001-0952-55_gauge.bmp',\n",
       " 'C:\\\\Users\\\\isc\\\\Desktop\\\\1004csize\\\\csizeclass\\\\GX48\\\\6524_GTXXXXXXXX_GX48_R_OUT_OK_2019-1001-0952-55.bmp',\n",
       " 'C:\\\\Users\\\\isc\\\\Desktop\\\\1004csize\\\\csizeclass\\\\GX48\\\\6524_GTXXXXXXXX_GX48_R_OUT_OK_2019-1001-0952-55_01.bmp',\n",
       " 'C:\\\\Users\\\\isc\\\\Desktop\\\\1004csize\\\\csizeclass\\\\GX48\\\\6524_GTXXXXXXXX_GX48_R_OUT_OK_2019-1001-0952-55_autogauge.bmp',\n",
       " 'C:\\\\Users\\\\isc\\\\Desktop\\\\1004csize\\\\csizeclass\\\\GX48\\\\6524_GTXXXXXXXX_GX48_R_OUT_OK_2019-1001-0952-55_gauge.bmp',\n",
       " 'C:\\\\Users\\\\isc\\\\Desktop\\\\1004csize\\\\csizeclass\\\\JT66\\\\3921_GTXXXXXXXX_JT66_L_OUT_OK_2019-1002-0425-14.bmp',\n",
       " 'C:\\\\Users\\\\isc\\\\Desktop\\\\1004csize\\\\csizeclass\\\\JT66\\\\3921_GTXXXXXXXX_JT66_L_OUT_OK_2019-1002-0425-14_01.bmp',\n",
       " 'C:\\\\Users\\\\isc\\\\Desktop\\\\1004csize\\\\csizeclass\\\\JT66\\\\3921_GTXXXXXXXX_JT66_L_OUT_OK_2019-1002-0425-14_autogauge.bmp',\n",
       " 'C:\\\\Users\\\\isc\\\\Desktop\\\\1004csize\\\\csizeclass\\\\JT66\\\\3921_GTXXXXXXXX_JT66_L_OUT_OK_2019-1002-0425-14_gauge.bmp',\n",
       " 'C:\\\\Users\\\\isc\\\\Desktop\\\\1004csize\\\\csizeclass\\\\JT66\\\\3921_GTXXXXXXXX_JT66_R_OUT_OK_2019-1002-0425-14.bmp',\n",
       " 'C:\\\\Users\\\\isc\\\\Desktop\\\\1004csize\\\\csizeclass\\\\JT66\\\\3921_GTXXXXXXXX_JT66_R_OUT_OK_2019-1002-0425-14_01.bmp',\n",
       " 'C:\\\\Users\\\\isc\\\\Desktop\\\\1004csize\\\\csizeclass\\\\JT66\\\\3921_GTXXXXXXXX_JT66_R_OUT_OK_2019-1002-0425-14_autogauge.bmp',\n",
       " 'C:\\\\Users\\\\isc\\\\Desktop\\\\1004csize\\\\csizeclass\\\\JT66\\\\3921_GTXXXXXXXX_JT66_R_OUT_OK_2019-1002-0425-14_gauge.bmp',\n",
       " 'C:\\\\Users\\\\isc\\\\Desktop\\\\1004csize\\\\csizeclass\\\\KG28\\\\2117_GTXXXXXXXX_KG28_L_OUT_OK_2019-1004-0004-41.bmp',\n",
       " 'C:\\\\Users\\\\isc\\\\Desktop\\\\1004csize\\\\csizeclass\\\\KG28\\\\2117_GTXXXXXXXX_KG28_L_OUT_OK_2019-1004-0004-41_01.bmp',\n",
       " 'C:\\\\Users\\\\isc\\\\Desktop\\\\1004csize\\\\csizeclass\\\\KG28\\\\2117_GTXXXXXXXX_KG28_L_OUT_OK_2019-1004-0004-41_autogauge.bmp',\n",
       " 'C:\\\\Users\\\\isc\\\\Desktop\\\\1004csize\\\\csizeclass\\\\KG28\\\\2117_GTXXXXXXXX_KG28_L_OUT_OK_2019-1004-0004-41_gauge.bmp',\n",
       " 'C:\\\\Users\\\\isc\\\\Desktop\\\\1004csize\\\\csizeclass\\\\KG28\\\\2117_GTXXXXXXXX_KG28_R_OUT_OK_2019-1004-0004-41.bmp',\n",
       " 'C:\\\\Users\\\\isc\\\\Desktop\\\\1004csize\\\\csizeclass\\\\KG28\\\\2117_GTXXXXXXXX_KG28_R_OUT_OK_2019-1004-0004-41_01.bmp',\n",
       " 'C:\\\\Users\\\\isc\\\\Desktop\\\\1004csize\\\\csizeclass\\\\KG28\\\\2117_GTXXXXXXXX_KG28_R_OUT_OK_2019-1004-0004-41_autogauge.bmp',\n",
       " 'C:\\\\Users\\\\isc\\\\Desktop\\\\1004csize\\\\csizeclass\\\\KG28\\\\2117_GTXXXXXXXX_KG28_R_OUT_OK_2019-1004-0004-41_gauge.bmp',\n",
       " 'C:\\\\Users\\\\isc\\\\Desktop\\\\1004csize\\\\csizeclass\\\\KR23\\\\1303_GTXXXXXXXX_KR23_L_OUT_OK_2019-0922-0000-12.bmp',\n",
       " 'C:\\\\Users\\\\isc\\\\Desktop\\\\1004csize\\\\csizeclass\\\\KR23\\\\1303_GTXXXXXXXX_KR23_L_OUT_OK_2019-0922-0000-12_01.bmp',\n",
       " 'C:\\\\Users\\\\isc\\\\Desktop\\\\1004csize\\\\csizeclass\\\\KR23\\\\1303_GTXXXXXXXX_KR23_L_OUT_OK_2019-0922-0000-12_11.bmp',\n",
       " 'C:\\\\Users\\\\isc\\\\Desktop\\\\1004csize\\\\csizeclass\\\\KR23\\\\1303_GTXXXXXXXX_KR23_L_OUT_OK_2019-0922-0000-12_12.bmp',\n",
       " 'C:\\\\Users\\\\isc\\\\Desktop\\\\1004csize\\\\csizeclass\\\\KR23\\\\1303_GTXXXXXXXX_KR23_L_OUT_OK_2019-0922-0000-12_13.bmp',\n",
       " 'C:\\\\Users\\\\isc\\\\Desktop\\\\1004csize\\\\csizeclass\\\\KR23\\\\1303_GTXXXXXXXX_KR23_L_OUT_OK_2019-0922-0000-12_14.bmp',\n",
       " 'C:\\\\Users\\\\isc\\\\Desktop\\\\1004csize\\\\csizeclass\\\\KR23\\\\1303_GTXXXXXXXX_KR23_L_OUT_OK_2019-0922-0000-12_15.bmp',\n",
       " 'C:\\\\Users\\\\isc\\\\Desktop\\\\1004csize\\\\csizeclass\\\\KR23\\\\1303_GTXXXXXXXX_KR23_L_OUT_OK_2019-0922-0000-12_autogauge.bmp',\n",
       " 'C:\\\\Users\\\\isc\\\\Desktop\\\\1004csize\\\\csizeclass\\\\KR23\\\\1303_GTXXXXXXXX_KR23_L_OUT_OK_2019-0922-0000-12_gauge.bmp',\n",
       " 'C:\\\\Users\\\\isc\\\\Desktop\\\\1004csize\\\\csizeclass\\\\KR23\\\\1303_GTXXXXXXXX_KR23_R_OUT_OK_2019-0922-0000-12.bmp',\n",
       " 'C:\\\\Users\\\\isc\\\\Desktop\\\\1004csize\\\\csizeclass\\\\KR23\\\\1303_GTXXXXXXXX_KR23_R_OUT_OK_2019-0922-0000-12_01.bmp',\n",
       " 'C:\\\\Users\\\\isc\\\\Desktop\\\\1004csize\\\\csizeclass\\\\KR23\\\\1303_GTXXXXXXXX_KR23_R_OUT_OK_2019-0922-0000-12_11.bmp',\n",
       " 'C:\\\\Users\\\\isc\\\\Desktop\\\\1004csize\\\\csizeclass\\\\KR23\\\\1303_GTXXXXXXXX_KR23_R_OUT_OK_2019-0922-0000-12_12.bmp',\n",
       " 'C:\\\\Users\\\\isc\\\\Desktop\\\\1004csize\\\\csizeclass\\\\KR23\\\\1303_GTXXXXXXXX_KR23_R_OUT_OK_2019-0922-0000-12_13.bmp',\n",
       " 'C:\\\\Users\\\\isc\\\\Desktop\\\\1004csize\\\\csizeclass\\\\KR23\\\\1303_GTXXXXXXXX_KR23_R_OUT_OK_2019-0922-0000-12_14.bmp',\n",
       " 'C:\\\\Users\\\\isc\\\\Desktop\\\\1004csize\\\\csizeclass\\\\KR23\\\\1303_GTXXXXXXXX_KR23_R_OUT_OK_2019-0922-0000-12_15.bmp',\n",
       " 'C:\\\\Users\\\\isc\\\\Desktop\\\\1004csize\\\\csizeclass\\\\KR23\\\\1303_GTXXXXXXXX_KR23_R_OUT_OK_2019-0922-0000-12_autogauge.bmp',\n",
       " 'C:\\\\Users\\\\isc\\\\Desktop\\\\1004csize\\\\csizeclass\\\\KR23\\\\1303_GTXXXXXXXX_KR23_R_OUT_OK_2019-0922-0000-12_gauge.bmp',\n",
       " 'C:\\\\Users\\\\isc\\\\Desktop\\\\1004csize\\\\csizeclass\\\\KR23\\\\1304_GTXXXXXXXX_KR23_L_OUT_OK_2019-0922-0001-24.bmp',\n",
       " 'C:\\\\Users\\\\isc\\\\Desktop\\\\1004csize\\\\csizeclass\\\\LB27\\\\0827_GTXXXXXXXX_LB27_L_OUT_OK_2019-1004-0006-37.bmp',\n",
       " 'C:\\\\Users\\\\isc\\\\Desktop\\\\1004csize\\\\csizeclass\\\\LB27\\\\0827_GTXXXXXXXX_LB27_L_OUT_OK_2019-1004-0006-37_01.bmp',\n",
       " 'C:\\\\Users\\\\isc\\\\Desktop\\\\1004csize\\\\csizeclass\\\\LB27\\\\0827_GTXXXXXXXX_LB27_L_OUT_OK_2019-1004-0006-37_autogauge.bmp',\n",
       " 'C:\\\\Users\\\\isc\\\\Desktop\\\\1004csize\\\\csizeclass\\\\LB27\\\\0827_GTXXXXXXXX_LB27_L_OUT_OK_2019-1004-0006-37_gauge.bmp',\n",
       " 'C:\\\\Users\\\\isc\\\\Desktop\\\\1004csize\\\\csizeclass\\\\LB27\\\\0827_GTXXXXXXXX_LB27_R_OUT_OK_2019-1004-0006-37.bmp',\n",
       " 'C:\\\\Users\\\\isc\\\\Desktop\\\\1004csize\\\\csizeclass\\\\LB27\\\\0827_GTXXXXXXXX_LB27_R_OUT_OK_2019-1004-0006-37_01.bmp',\n",
       " 'C:\\\\Users\\\\isc\\\\Desktop\\\\1004csize\\\\csizeclass\\\\LB27\\\\0827_GTXXXXXXXX_LB27_R_OUT_OK_2019-1004-0006-37_autogauge.bmp',\n",
       " 'C:\\\\Users\\\\isc\\\\Desktop\\\\1004csize\\\\csizeclass\\\\LB27\\\\0827_GTXXXXXXXX_LB27_R_OUT_OK_2019-1004-0006-37_gauge.bmp',\n",
       " 'C:\\\\Users\\\\isc\\\\Desktop\\\\1004csize\\\\csizeclass\\\\LF18\\\\5963_GTXXXXXXXX_LF18_L_OUT_OK_2019-1002-0000-35.bmp',\n",
       " 'C:\\\\Users\\\\isc\\\\Desktop\\\\1004csize\\\\csizeclass\\\\LF18\\\\5963_GTXXXXXXXX_LF18_L_OUT_OK_2019-1002-0000-35_01.bmp',\n",
       " 'C:\\\\Users\\\\isc\\\\Desktop\\\\1004csize\\\\csizeclass\\\\LF18\\\\5963_GTXXXXXXXX_LF18_L_OUT_OK_2019-1002-0000-35_autogauge.bmp',\n",
       " 'C:\\\\Users\\\\isc\\\\Desktop\\\\1004csize\\\\csizeclass\\\\LF18\\\\5963_GTXXXXXXXX_LF18_L_OUT_OK_2019-1002-0000-35_gauge.bmp',\n",
       " 'C:\\\\Users\\\\isc\\\\Desktop\\\\1004csize\\\\csizeclass\\\\LF18\\\\5963_GTXXXXXXXX_LF18_R_OUT_OK_2019-1002-0000-35.bmp',\n",
       " 'C:\\\\Users\\\\isc\\\\Desktop\\\\1004csize\\\\csizeclass\\\\LF18\\\\5963_GTXXXXXXXX_LF18_R_OUT_OK_2019-1002-0000-35_01.bmp',\n",
       " 'C:\\\\Users\\\\isc\\\\Desktop\\\\1004csize\\\\csizeclass\\\\LF18\\\\5963_GTXXXXXXXX_LF18_R_OUT_OK_2019-1002-0000-35_autogauge.bmp',\n",
       " 'C:\\\\Users\\\\isc\\\\Desktop\\\\1004csize\\\\csizeclass\\\\LF18\\\\5963_GTXXXXXXXX_LF18_R_OUT_OK_2019-1002-0000-35_gauge.bmp',\n",
       " 'C:\\\\Users\\\\isc\\\\Desktop\\\\1004csize\\\\csizeclass\\\\WE04\\\\2079_GTXXXXXXXX_WE04_L_OUT_OK_2019-0930-0001-48.bmp',\n",
       " 'C:\\\\Users\\\\isc\\\\Desktop\\\\1004csize\\\\csizeclass\\\\WE04\\\\2079_GTXXXXXXXX_WE04_L_OUT_OK_2019-0930-0001-48_01.bmp',\n",
       " 'C:\\\\Users\\\\isc\\\\Desktop\\\\1004csize\\\\csizeclass\\\\WE04\\\\2079_GTXXXXXXXX_WE04_L_OUT_OK_2019-0930-0001-48_autogauge.bmp',\n",
       " 'C:\\\\Users\\\\isc\\\\Desktop\\\\1004csize\\\\csizeclass\\\\WE04\\\\2079_GTXXXXXXXX_WE04_L_OUT_OK_2019-0930-0001-48_gauge.bmp',\n",
       " 'C:\\\\Users\\\\isc\\\\Desktop\\\\1004csize\\\\csizeclass\\\\WE04\\\\2079_GTXXXXXXXX_WE04_R_OUT_OK_2019-0930-0001-48.bmp',\n",
       " 'C:\\\\Users\\\\isc\\\\Desktop\\\\1004csize\\\\csizeclass\\\\WE04\\\\2079_GTXXXXXXXX_WE04_R_OUT_OK_2019-0930-0001-48_01.bmp',\n",
       " 'C:\\\\Users\\\\isc\\\\Desktop\\\\1004csize\\\\csizeclass\\\\WE04\\\\2079_GTXXXXXXXX_WE04_R_OUT_OK_2019-0930-0001-48_autogauge.bmp',\n",
       " 'C:\\\\Users\\\\isc\\\\Desktop\\\\1004csize\\\\csizeclass\\\\WE04\\\\2079_GTXXXXXXXX_WE04_R_OUT_OK_2019-0930-0001-48_gauge.bmp',\n",
       " 'C:\\\\Users\\\\isc\\\\Desktop\\\\1004csize\\\\csizeclass\\\\XR72\\\\2424_GTXXXXXXXX_XR72_L_OUT_OK_2019-1004-0001-46.bmp',\n",
       " 'C:\\\\Users\\\\isc\\\\Desktop\\\\1004csize\\\\csizeclass\\\\XR72\\\\2424_GTXXXXXXXX_XR72_L_OUT_OK_2019-1004-0001-46_01.bmp',\n",
       " 'C:\\\\Users\\\\isc\\\\Desktop\\\\1004csize\\\\csizeclass\\\\XR72\\\\2424_GTXXXXXXXX_XR72_L_OUT_OK_2019-1004-0001-46_11.bmp',\n",
       " 'C:\\\\Users\\\\isc\\\\Desktop\\\\1004csize\\\\csizeclass\\\\XR72\\\\2424_GTXXXXXXXX_XR72_L_OUT_OK_2019-1004-0001-46_12.bmp',\n",
       " 'C:\\\\Users\\\\isc\\\\Desktop\\\\1004csize\\\\csizeclass\\\\XR72\\\\2424_GTXXXXXXXX_XR72_L_OUT_OK_2019-1004-0001-46_13.bmp',\n",
       " 'C:\\\\Users\\\\isc\\\\Desktop\\\\1004csize\\\\csizeclass\\\\XR72\\\\2424_GTXXXXXXXX_XR72_L_OUT_OK_2019-1004-0001-46_14.bmp',\n",
       " 'C:\\\\Users\\\\isc\\\\Desktop\\\\1004csize\\\\csizeclass\\\\XR72\\\\2424_GTXXXXXXXX_XR72_L_OUT_OK_2019-1004-0001-46_15.bmp',\n",
       " 'C:\\\\Users\\\\isc\\\\Desktop\\\\1004csize\\\\csizeclass\\\\XR72\\\\2424_GTXXXXXXXX_XR72_L_OUT_OK_2019-1004-0001-46_autogauge.bmp',\n",
       " 'C:\\\\Users\\\\isc\\\\Desktop\\\\1004csize\\\\csizeclass\\\\XR72\\\\2424_GTXXXXXXXX_XR72_L_OUT_OK_2019-1004-0001-46_gauge.bmp',\n",
       " 'C:\\\\Users\\\\isc\\\\Desktop\\\\1004csize\\\\csizeclass\\\\XR72\\\\2424_GTXXXXXXXX_XR72_R_OUT_OK_2019-1004-0001-46.bmp',\n",
       " 'C:\\\\Users\\\\isc\\\\Desktop\\\\1004csize\\\\csizeclass\\\\XR72\\\\2424_GTXXXXXXXX_XR72_R_OUT_OK_2019-1004-0001-46_01.bmp',\n",
       " 'C:\\\\Users\\\\isc\\\\Desktop\\\\1004csize\\\\csizeclass\\\\XR72\\\\2424_GTXXXXXXXX_XR72_R_OUT_OK_2019-1004-0001-46_11.bmp',\n",
       " 'C:\\\\Users\\\\isc\\\\Desktop\\\\1004csize\\\\csizeclass\\\\XR72\\\\2424_GTXXXXXXXX_XR72_R_OUT_OK_2019-1004-0001-46_12.bmp',\n",
       " 'C:\\\\Users\\\\isc\\\\Desktop\\\\1004csize\\\\csizeclass\\\\XR72\\\\2424_GTXXXXXXXX_XR72_R_OUT_OK_2019-1004-0001-46_13.bmp',\n",
       " 'C:\\\\Users\\\\isc\\\\Desktop\\\\1004csize\\\\csizeclass\\\\XR72\\\\2424_GTXXXXXXXX_XR72_R_OUT_OK_2019-1004-0001-46_14.bmp',\n",
       " 'C:\\\\Users\\\\isc\\\\Desktop\\\\1004csize\\\\csizeclass\\\\XR72\\\\2424_GTXXXXXXXX_XR72_R_OUT_OK_2019-1004-0001-46_15.bmp',\n",
       " 'C:\\\\Users\\\\isc\\\\Desktop\\\\1004csize\\\\csizeclass\\\\XR72\\\\2424_GTXXXXXXXX_XR72_R_OUT_OK_2019-1004-0001-46_autogauge.bmp',\n",
       " 'C:\\\\Users\\\\isc\\\\Desktop\\\\1004csize\\\\csizeclass\\\\XR72\\\\2424_GTXXXXXXXX_XR72_R_OUT_OK_2019-1004-0001-46_gauge.bmp',\n",
       " 'C:\\\\Users\\\\isc\\\\Desktop\\\\1004csize\\\\csizeclass\\\\XU53\\\\7009_GTXXXXXXXX_XU53_L_OUT_OK_2019-0827-0000-45.bmp',\n",
       " 'C:\\\\Users\\\\isc\\\\Desktop\\\\1004csize\\\\csizeclass\\\\XU53\\\\7009_GTXXXXXXXX_XU53_L_OUT_OK_2019-0827-0000-45_01.bmp',\n",
       " 'C:\\\\Users\\\\isc\\\\Desktop\\\\1004csize\\\\csizeclass\\\\XU53\\\\7009_GTXXXXXXXX_XU53_L_OUT_OK_2019-0827-0000-45_autogauge.bmp',\n",
       " 'C:\\\\Users\\\\isc\\\\Desktop\\\\1004csize\\\\csizeclass\\\\XU53\\\\7009_GTXXXXXXXX_XU53_L_OUT_OK_2019-0827-0000-45_gauge.bmp',\n",
       " 'C:\\\\Users\\\\isc\\\\Desktop\\\\1004csize\\\\csizeclass\\\\XU53\\\\7009_GTXXXXXXXX_XU53_R_OUT_OK_2019-0827-0000-45.bmp',\n",
       " 'C:\\\\Users\\\\isc\\\\Desktop\\\\1004csize\\\\csizeclass\\\\XU53\\\\7009_GTXXXXXXXX_XU53_R_OUT_OK_2019-0827-0000-45_01.bmp',\n",
       " 'C:\\\\Users\\\\isc\\\\Desktop\\\\1004csize\\\\csizeclass\\\\XU53\\\\7009_GTXXXXXXXX_XU53_R_OUT_OK_2019-0827-0000-45_autogauge.bmp',\n",
       " 'C:\\\\Users\\\\isc\\\\Desktop\\\\1004csize\\\\csizeclass\\\\XU53\\\\7009_GTXXXXXXXX_XU53_R_OUT_OK_2019-0827-0000-45_gauge.bmp',\n",
       " 'C:\\\\Users\\\\isc\\\\Desktop\\\\1004csize\\\\csizeclass\\\\YJ07\\\\5779_GTXXXXXXXX_YJ07_R_OUT_OK_2019-0928-0035-13.bmp',\n",
       " 'C:\\\\Users\\\\isc\\\\Desktop\\\\1004csize\\\\csizeclass\\\\YJ07\\\\5779_GTXXXXXXXX_YJ07_R_OUT_OK_2019-0928-0035-13_01.bmp',\n",
       " 'C:\\\\Users\\\\isc\\\\Desktop\\\\1004csize\\\\csizeclass\\\\YJ07\\\\5779_GTXXXXXXXX_YJ07_R_OUT_OK_2019-0928-0035-13_autogauge.bmp',\n",
       " 'C:\\\\Users\\\\isc\\\\Desktop\\\\1004csize\\\\csizeclass\\\\YJ07\\\\5779_GTXXXXXXXX_YJ07_R_OUT_OK_2019-0928-0035-13_gauge.bmp',\n",
       " 'C:\\\\Users\\\\isc\\\\Desktop\\\\1004csize\\\\csizeclass\\\\YJ07\\\\5780_GTXXXXXXXX_YJ07_L_OUT_OK_2019-0928-0038-07.bmp',\n",
       " 'C:\\\\Users\\\\isc\\\\Desktop\\\\1004csize\\\\csizeclass\\\\YJ07\\\\5780_GTXXXXXXXX_YJ07_L_OUT_OK_2019-0928-0038-07_01.bmp',\n",
       " 'C:\\\\Users\\\\isc\\\\Desktop\\\\1004csize\\\\csizeclass\\\\YJ07\\\\5780_GTXXXXXXXX_YJ07_L_OUT_OK_2019-0928-0038-07_autogauge.bmp',\n",
       " 'C:\\\\Users\\\\isc\\\\Desktop\\\\1004csize\\\\csizeclass\\\\YJ07\\\\5780_GTXXXXXXXX_YJ07_L_OUT_OK_2019-0928-0038-07_gauge.bmp']"
      ]
     },
     "execution_count": 7,
     "metadata": {},
     "output_type": "execute_result"
    }
   ],
   "source": [
    "def find_all_files(directory,extention=\"jpg\"):\n",
    "    filelist=[]\n",
    "    for root, dirs, files in os.walk(directory):\n",
    "        for file in files:\n",
    "            \"\"\"file[-3:] means \"3 char from the end of line\"\"\"\n",
    "            if file[-3:] == extention:\n",
    "                filelist.append(os.path.join(root, file))\n",
    "    return filelist\n",
    "\n",
    "files = find_all_files(target,\"bmp\")\n",
    "files"
   ]
  },
  {
   "cell_type": "code",
   "execution_count": 13,
   "metadata": {},
   "outputs": [
    {
     "data": {
      "text/plain": [
       "['C:\\\\Users\\\\isc\\\\Desktop\\\\1004csize\\\\csizeclass\\\\AS61\\\\1508_GTXXXXXXXX_AS61_R_OUT_OK_2019-0917-0549-07.bmp',\n",
       " 'C:\\\\Users\\\\isc\\\\Desktop\\\\1004csize\\\\csizeclass\\\\BK37\\\\6818_GTXXXXXXXX_BK37_R_OUT_OK_2019-1002-0053-30.bmp',\n",
       " 'C:\\\\Users\\\\isc\\\\Desktop\\\\1004csize\\\\csizeclass\\\\DC56\\\\5096_GTXXXXXXXX_DC56_R_OUT_OK_2019-1004-0013-59.bmp',\n",
       " 'C:\\\\Users\\\\isc\\\\Desktop\\\\1004csize\\\\csizeclass\\\\DY14\\\\7584_GTXXXXXXXX_DY14_R_OUT_OK_2019-0831-0756-43.bmp',\n",
       " 'C:\\\\Users\\\\isc\\\\Desktop\\\\1004csize\\\\csizeclass\\\\DY25\\\\6688_GTXXXXXXXX_DY25_R_OUT_OK_2019-1004-0006-01.bmp',\n",
       " 'C:\\\\Users\\\\isc\\\\Desktop\\\\1004csize\\\\csizeclass\\\\EN58\\\\7878_GTXXXXXXXX_EN58_R_OUT_OK_2019-1002-0500-22.bmp',\n",
       " 'C:\\\\Users\\\\isc\\\\Desktop\\\\1004csize\\\\csizeclass\\\\GX48\\\\6524_GTXXXXXXXX_GX48_R_OUT_OK_2019-1001-0952-55.bmp',\n",
       " 'C:\\\\Users\\\\isc\\\\Desktop\\\\1004csize\\\\csizeclass\\\\JT66\\\\3921_GTXXXXXXXX_JT66_R_OUT_OK_2019-1002-0425-14.bmp',\n",
       " 'C:\\\\Users\\\\isc\\\\Desktop\\\\1004csize\\\\csizeclass\\\\KG28\\\\2117_GTXXXXXXXX_KG28_R_OUT_OK_2019-1004-0004-41.bmp',\n",
       " 'C:\\\\Users\\\\isc\\\\Desktop\\\\1004csize\\\\csizeclass\\\\KR23\\\\1303_GTXXXXXXXX_KR23_R_OUT_OK_2019-0922-0000-12.bmp',\n",
       " 'C:\\\\Users\\\\isc\\\\Desktop\\\\1004csize\\\\csizeclass\\\\LB27\\\\0827_GTXXXXXXXX_LB27_R_OUT_OK_2019-1004-0006-37.bmp',\n",
       " 'C:\\\\Users\\\\isc\\\\Desktop\\\\1004csize\\\\csizeclass\\\\LF18\\\\5963_GTXXXXXXXX_LF18_R_OUT_OK_2019-1002-0000-35.bmp',\n",
       " 'C:\\\\Users\\\\isc\\\\Desktop\\\\1004csize\\\\csizeclass\\\\WE04\\\\2079_GTXXXXXXXX_WE04_R_OUT_OK_2019-0930-0001-48.bmp',\n",
       " 'C:\\\\Users\\\\isc\\\\Desktop\\\\1004csize\\\\csizeclass\\\\XR72\\\\2424_GTXXXXXXXX_XR72_R_OUT_OK_2019-1004-0001-46.bmp',\n",
       " 'C:\\\\Users\\\\isc\\\\Desktop\\\\1004csize\\\\csizeclass\\\\XU53\\\\7009_GTXXXXXXXX_XU53_R_OUT_OK_2019-0827-0000-45.bmp',\n",
       " 'C:\\\\Users\\\\isc\\\\Desktop\\\\1004csize\\\\csizeclass\\\\YJ07\\\\5779_GTXXXXXXXX_YJ07_R_OUT_OK_2019-0928-0035-13.bmp']"
      ]
     },
     "execution_count": 13,
     "metadata": {},
     "output_type": "execute_result"
    }
   ],
   "source": [
    "files_R =[]\n",
    "for i in files:\n",
    "    if ((len(i) == 98)and(i.split(\"_\")[3] == \"R\")):\n",
    "        files_R.append(i)\n",
    "files_R \n"
   ]
  },
  {
   "cell_type": "code",
   "execution_count": 21,
   "metadata": {},
   "outputs": [],
   "source": [
    "savedir = \"C:\\\\Users\\\\isc\\\\Desktop\\\\1004csize\\\\forsurvey\\\\\"\n",
    "for i in files_R:\n",
    "    img = cv2.imread(i)\n",
    "    #img2 = cv2.cvtColor(img,cv2.COLOR_GRAY2RGB)\n",
    "    cv2.line(img,(0,98),(4999,98),(255,0,0),4)\n",
    "    cv2.line(img,(0,230),(4999,230),(255,0,0),4)\n",
    "    name = savedir + i.split(\"_\")[2]+\".bmp\"\n",
    "    cv2.imwrite(name,img)"
   ]
  },
  {
   "cell_type": "code",
   "execution_count": null,
   "metadata": {},
   "outputs": [],
   "source": []
  }
 ],
 "metadata": {
  "kernelspec": {
   "display_name": "Python 3",
   "language": "python",
   "name": "python3"
  },
  "language_info": {
   "codemirror_mode": {
    "name": "ipython",
    "version": 3
   },
   "file_extension": ".py",
   "mimetype": "text/x-python",
   "name": "python",
   "nbconvert_exporter": "python",
   "pygments_lexer": "ipython3",
   "version": "3.7.4"
  }
 },
 "nbformat": 4,
 "nbformat_minor": 2
}
